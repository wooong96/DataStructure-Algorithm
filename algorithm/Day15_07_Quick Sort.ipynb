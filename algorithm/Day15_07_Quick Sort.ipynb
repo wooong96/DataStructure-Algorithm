{
 "cells": [
  {
   "cell_type": "markdown",
   "metadata": {},
   "source": [
    "## 대표적인 정렬: 퀵 정렬 (quick sort) \n",
    " ### 1. 퀵 정렬 (quick sort) 이란?\n",
    "* <font color='red'>정렬 알고리즘의 꽃</font>\n",
    "* 기준점(pivot 이라고 부름)을 정해서, 기준점보다 작은 데이터는 왼쪽(left), 큰 데이터는 오른쪽(right) 으로 모으는 함수를 작성함\n",
    "* 각 왼쪽(left), 오른쪽(right)은 재귀용법을 사용해서 다시 동일 함수를 호출하여 위 작업을 반복함\n",
    "* 함수는 왼쪽(left) + 기준점(pivot) + 오른쪽(right) 을 리턴함"
   ]
  },
  {
   "cell_type": "markdown",
   "metadata": {},
   "source": [
    "### 2. 알고리즘 구현\n",
    "* quicksort 함수 만들기\n",
    "  - 만약 리스트 갯수가 한개이면 해당 리스트 리턴\n",
    "  - 그렇지 않으면, 리스트 맨 앞의 데이터를 기준점(pivot)으로 놓기\n",
    "  - left, right 리스트 변수를 만들고,\n",
    "  - 맨 앞의 데이터를 뺀 나머지 데이터를 기준점과 비교(pivot)\n",
    "    - 기준점보다 작으면 left.append(해당 데이터)\n",
    "    - 기준점보다 크면 right.append(해당 데이터)\n",
    "  - return quicksort(left) + pivot + quicksort(right) 로 재귀 호출\n",
    "  \n",
    "> 리스트로 만들어서 리턴하기: return quick_sort(left) + [pivot] + quick_sort(right)"
   ]
  },
  {
   "cell_type": "code",
   "execution_count": 7,
   "metadata": {},
   "outputs": [
    {
     "name": "stdout",
     "output_type": "stream",
     "text": [
      "[21, 60, 45, 18, 53, 32, 76, 15, 33, 3]\n",
      "[3, 15, 18, 21, 32, 33, 45, 53, 60, 76]\n"
     ]
    }
   ],
   "source": [
    "import random\n",
    "\n",
    "def qsort(data_list):\n",
    "    if len(data_list) <= 1:\n",
    "        return data_list\n",
    "    else:\n",
    "        pivot = data_list[0]\n",
    "        left = []\n",
    "        right = []\n",
    "        \n",
    "        for idx in range(1,len(data_list)):\n",
    "            if pivot > data_list[idx]:\n",
    "                left.append(data_list[idx])\n",
    "            elif pivot < data_list[idx]:\n",
    "                right.append(data_list[idx])\n",
    "        return qsort(left) + [pivot] + qsort(right) # 리스트들끼리 합쳐줌\n",
    "    \n",
    "data_list = list(random.sample(range(100),10))\n",
    "print(data_list)\n",
    "print(qsort(data_list))"
   ]
  },
  {
   "cell_type": "code",
   "execution_count": 9,
   "metadata": {},
   "outputs": [
    {
     "name": "stdout",
     "output_type": "stream",
     "text": [
      "[59, 36, 60, 5, 81, 17, 77, 69, 3, 64]\n",
      "[3, 5, 17, 36, 59, 60, 64, 69, 77, 81]\n"
     ]
    }
   ],
   "source": [
    "#list comprehension 으로 깔끔하게 구성\n",
    "import random\n",
    "\n",
    "def quick_sort(data):\n",
    "    if len(data) <= 1:\n",
    "        return data\n",
    "    else:\n",
    "        pivot = data[0]\n",
    "        left = [item for item in data[1:] if pivot > item] # 문법 알기\n",
    "        right = [item for item in data[1:] if pivot <= item]\n",
    "        \n",
    "        return quick_sort(left) + [pivot] + quick_sort(right)\n",
    "    \n",
    "data = list(random.sample(range(100),10))\n",
    "print(data)\n",
    "print(quick_sort(data))"
   ]
  },
  {
   "cell_type": "markdown",
   "metadata": {},
   "source": [
    "### 3. 알고리즘 분석\n",
    "* <font color='#BF360C'>병합정렬과 유사, 시간복잡도는 O(n log n)</font>\n",
    "  - 단, 최악의 경우 \n",
    "    - 맨 처음 pivot이 가장 크거나, 가장 작으면\n",
    "    - 모든 데이터를 비교하는 상황이 나옴\n",
    "    - O($n^2$)\n",
    "<img src=\"https://www.fun-coding.org/00_Images/quicksortworks.jpg\" />\n"
   ]
  },
  {
   "cell_type": "code",
   "execution_count": null,
   "metadata": {},
   "outputs": [],
   "source": []
  }
 ],
 "metadata": {
  "kernelspec": {
   "display_name": "Python 3",
   "language": "python",
   "name": "python3"
  },
  "language_info": {
   "codemirror_mode": {
    "name": "ipython",
    "version": 3
   },
   "file_extension": ".py",
   "mimetype": "text/x-python",
   "name": "python",
   "nbconvert_exporter": "python",
   "pygments_lexer": "ipython3",
   "version": "3.7.6"
  }
 },
 "nbformat": 4,
 "nbformat_minor": 4
}
