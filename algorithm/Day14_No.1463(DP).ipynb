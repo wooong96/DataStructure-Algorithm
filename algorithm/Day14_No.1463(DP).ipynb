{
 "cells": [
  {
   "cell_type": "markdown",
   "metadata": {},
   "source": [
    "- 정수 X에 사용할 수 있는 연산은 다음과 같이 세 가지 이다.\n",
    "\n",
    "    - X가 3으로 나누어 떨어지면, 3으로 나눈다.\n",
    "    - X가 2로 나누어 떨어지면, 2로 나눈다.\n",
    "    - 1을 뺀다.\n",
    "\n",
    "- 정수 N이 주어졌을 때, 위와 같은 연산 세 개를 적절히 사용해서 1을 만들려고 한다. 연산을 사용하는 횟수의 최솟값을 출력하시오."
   ]
  },
  {
   "cell_type": "code",
   "execution_count": 1,
   "metadata": {},
   "outputs": [
    {
     "name": "stdout",
     "output_type": "stream",
     "text": [
      "14\n",
      "4\n"
     ]
    }
   ],
   "source": [
    "N = int(input())\n",
    "num_list = [0,0,1,1] # 0,1,2,3\n",
    "# dynamic pr\n",
    "\n",
    "\n",
    "for i in range(4,N+1):\n",
    "    num_list.append(num_list[i-1]+1)\n",
    "    if i % 2 == 0:\n",
    "        num_list[i] = min(num_list[i//2]+1, num_list[i]) \n",
    "        \n",
    "    if i % 3 == 0:\n",
    "        num_list[i] = min(num_list[i//3]+1, num_list[i])\n",
    "           \n",
    "print(num_list[N])\n",
    "\n",
    "# DP를 활용하여 접근\n",
    "    "
   ]
  }
 ],
 "metadata": {
  "kernelspec": {
   "display_name": "Python 3",
   "language": "python",
   "name": "python3"
  },
  "language_info": {
   "codemirror_mode": {
    "name": "ipython",
    "version": 3
   },
   "file_extension": ".py",
   "mimetype": "text/x-python",
   "name": "python",
   "nbconvert_exporter": "python",
   "pygments_lexer": "ipython3",
   "version": "3.7.6"
  }
 },
 "nbformat": 4,
 "nbformat_minor": 4
}
