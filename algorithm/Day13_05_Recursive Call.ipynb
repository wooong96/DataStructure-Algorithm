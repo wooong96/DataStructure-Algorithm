{
 "cells": [
  {
   "cell_type": "markdown",
   "metadata": {},
   "source": [
    "## 재귀 용법 (recursive call, 재귀 호출)\n",
    "\n",
    "> 고급 정렬 알고리즘엥서 재귀 용법을 사용하므로, 고급 정렬 알고리즘을 익히기 전에 필요"
   ]
  },
  {
   "cell_type": "markdown",
   "metadata": {},
   "source": [
    "### 1. 재귀 용법 (recursive call, 재귀 호출)\n",
    "* 함수 안에서 동일한 함수를 호출하는 형태\n",
    "* 여러 알고리즘 작성시 사용되므로, 익숙해져야 함"
   ]
  },
  {
   "cell_type": "markdown",
   "metadata": {},
   "source": [
    "### 예제\n",
    "- 팩토리얼을 구하는 알고리즘을 Recursive Call 을 활용해서 알고리즘 작성하기\n",
    "- 간단한 경우를 생각해보기\n",
    " - 2! = 1 X 2\n",
    " - 3! = 1 X 2 X 3\n",
    " - 4! = 1 X 2 X 3 X 4\n",
    "- n! = n X (n-1)! 규칙 \n"
   ]
  },
  {
   "cell_type": "code",
   "execution_count": 3,
   "metadata": {},
   "outputs": [
    {
     "name": "stdout",
     "output_type": "stream",
     "text": [
      "0\n",
      "1\n",
      "2\n",
      "6\n",
      "24\n",
      "120\n",
      "720\n",
      "5040\n",
      "40320\n",
      "362880\n"
     ]
    }
   ],
   "source": [
    "def factorial(num):\n",
    "    if num > 1:\n",
    "        return num * factorial(num-1)\n",
    "    else:\n",
    "        return num\n",
    "    \n",
    "for num in range(10):\n",
    "    print(factorial(num))"
   ]
  },
  {
   "cell_type": "markdown",
   "metadata": {},
   "source": [
    "### 예제 - 시간 복잡도와 공간 복잡도\n",
    "* factorial(n) 은 n - 1 번의 factorial() 함수를 호출해서, 곱셈을 함 \n",
    "  - 일종의 n-1번 반복문을 호출한 것과 동일\n",
    "  - factorial() 함수를 호출할 때마다, 지역변수 n 이 생성됨\n",
    "\n",
    "* 시간 복잡도/공간 복잡도는 O(n-1) 이므로 결국, 둘 다 O(n)"
   ]
  },
  {
   "cell_type": "markdown",
   "metadata": {},
   "source": [
    "### 재귀 호출은 스택의 전형적인 예\n",
    "* 함수는 내부적으로 스택처럼 관리된다.\n",
    "<img src=\"https://www.fun-coding.org/00_Images/recursivecall.png\" />\n",
    "- 참고 : 파이썬에서 재귀 함수는 1000회 이하가 되어야 한다."
   ]
  },
  {
   "cell_type": "code",
   "execution_count": 5,
   "metadata": {},
   "outputs": [
    {
     "name": "stdout",
     "output_type": "stream",
     "text": [
      "3628800\n"
     ]
    }
   ],
   "source": [
    "# 1 부터 num까지의 곱 출력 (factorial)\n",
    "def multiply(num):\n",
    "    if num <= 1:\n",
    "        return num\n",
    "    else:\n",
    "        return num * multiply(num-1)\n",
    "    \n",
    "print(multiply(10))"
   ]
  },
  {
   "cell_type": "code",
   "execution_count": 8,
   "metadata": {},
   "outputs": [
    {
     "name": "stdout",
     "output_type": "stream",
     "text": [
      "[26, 56, 68, 22, 87, 58, 23, 44, 7, 18]\n",
      "409\n"
     ]
    }
   ],
   "source": [
    "# 재귀 함수로 리스트의 합을 출력하시오.\n",
    "import random\n",
    "num_list = random.sample(range(100), 10)\n",
    "print(num_list)\n",
    "\n",
    "def sum_num(num_list):\n",
    "    if len(num_list) == 1:\n",
    "        return num_list[0]\n",
    "    else:\n",
    "        return num_list[0] + sum_num(num_list[1:])\n",
    "\n",
    "print(sum_num(num_list))"
   ]
  },
  {
   "cell_type": "code",
   "execution_count": 13,
   "metadata": {},
   "outputs": [
    {
     "name": "stdout",
     "output_type": "stream",
     "text": [
      "False\n",
      "True\n"
     ]
    }
   ],
   "source": [
    "# 거꾸로 읽어도 제대로 읽은 것 같은 회문 판단 함수를 재귀함수 이용해서 \n",
    "def judge(string):\n",
    "    if len(string) <= 1:\n",
    "        return True\n",
    "    \n",
    "    if string[0] == string [-1]:\n",
    "        return judge(string[1:-1])\n",
    "    else:\n",
    "        return False\n",
    "    \n",
    "print(judge('cbabcd'))\n",
    "print(judge('cbabc'))\n",
    "\n",
    "#string = 'cbabc'\n",
    "#string[1:-1] = 'bab'"
   ]
  },
  {
   "cell_type": "code",
   "execution_count": 17,
   "metadata": {},
   "outputs": [
    {
     "name": "stdout",
     "output_type": "stream",
     "text": [
      "3\n",
      "3\n",
      "10\n",
      "5\n",
      "16\n",
      "8\n",
      "4\n",
      "2\n",
      "1\n"
     ]
    },
    {
     "data": {
      "text/plain": [
       "1"
      ]
     },
     "execution_count": 17,
     "metadata": {},
     "output_type": "execute_result"
    }
   ],
   "source": [
    "# 정수 n 에 대해 \n",
    "# n이 홀수 이면 3 * n + 1\n",
    "# n이 짝수 이면 n // 2\n",
    "# 계속 진행해서 1이 될 때 까지\n",
    "\n",
    "def change(num):\n",
    "    print(num)\n",
    "    if num == 1:\n",
    "        return num\n",
    "    \n",
    "    elif num % 2 == 1:\n",
    "        num = num * 3 + 1\n",
    "    elif num % 2 == 0:\n",
    "        num = num // 2\n",
    "    \n",
    "    return change(num)\n",
    "\n",
    "change(int(input()))"
   ]
  },
  {
   "cell_type": "code",
   "execution_count": 22,
   "metadata": {},
   "outputs": [
    {
     "data": {
      "text/plain": [
       "13"
      ]
     },
     "execution_count": 22,
     "metadata": {},
     "output_type": "execute_result"
    }
   ],
   "source": [
    "'''\n",
    "문제: 정수 4를 1, 2, 3의 조합으로 나타내는 방법은 다음과 같이 총 7가지가 있음\n",
    "1+1+1+1\n",
    "1+1+2\n",
    "1+2+1\n",
    "2+1+1\n",
    "2+2\n",
    "1+3\n",
    "3+1\n",
    "정수 n이 입력으로 주어졌을 때, \n",
    "n을 1, 2, 3의 합으로 나타낼 수 있는 방법의 수를 구하시오\n",
    "'''\n",
    "def func(number):\n",
    "    if number == 1:\n",
    "        return 1\n",
    "    elif number == 2:\n",
    "        return 2\n",
    "    elif number == 3:\n",
    "        return 4\n",
    "    \n",
    "    return func(number-1) + func(number -2) + func(number - 3)\n",
    "\n",
    "func(5)\n"
   ]
  },
  {
   "cell_type": "code",
   "execution_count": null,
   "metadata": {},
   "outputs": [],
   "source": []
  }
 ],
 "metadata": {
  "kernelspec": {
   "display_name": "Python 3",
   "language": "python",
   "name": "python3"
  },
  "language_info": {
   "codemirror_mode": {
    "name": "ipython",
    "version": 3
   },
   "file_extension": ".py",
   "mimetype": "text/x-python",
   "name": "python",
   "nbconvert_exporter": "python",
   "pygments_lexer": "ipython3",
   "version": "3.7.6"
  }
 },
 "nbformat": 4,
 "nbformat_minor": 4
}
