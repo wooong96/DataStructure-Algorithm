{
 "cells": [
  {
   "cell_type": "markdown",
   "metadata": {},
   "source": [
    "## 대표적인 정렬2: 선택 정렬 (selection sort) \n",
    "\n",
    "### 1. 선택 정렬 (selection sort) 란?\n",
    "* 다음과 같은 순서를 반복하며 정렬하는 알고리즘\n",
    "  1. 주어진 데이터 중, 최소값을 찾음\n",
    "  2. 해당 최소값을 데이터 맨 앞에 위치한 값과 교체함\n",
    "  3. 맨 앞의 위치를 뺀 나머지 데이터를 동일한 방법으로 반복함\n",
    "\n",
    "\n",
    "<img src=\"https://upload.wikimedia.org/wikipedia/commons/9/94/Selection-Sort-Animation.gif\" width=100>\n",
    "\n",
    "- 출처: https://en.wikipedia.org/wiki/Selection_sort\n",
    "- 참고: https://visualgo.net/en/sorting"
   ]
  },
  {
   "cell_type": "markdown",
   "metadata": {},
   "source": [
    "### 2. 예\n",
    "* 데이터가 두 개 일때\n",
    "  - 예: dataList = [9, 1]\n",
    "    - data_list[0] > data_list[1] 이므로 data_list[0] 값과 data_ list[1] 값을 교환\n",
    "* 데이터가 세 개 일때\n",
    "  - 예: data_list = [9, 1, 7]\n",
    "    - 처음 한번 실행하면, 1, 9, 7 이 됨\n",
    "    - 두 번째 실행하면, 1, 7, 9 가 됨\n",
    "* 데이터가 네 개 일때\n",
    "  - 예: data_list = [9, 3, 2, 1]\n",
    "    - 처음 한번 실행하면, 1, 3, 2, 9 가 됨\n",
    "    - 두 번째 실행하면, 1, 2, 3, 9 가 됨\n",
    "    - 세 번째 실행하면, 변화 없음"
   ]
  },
  {
   "cell_type": "code",
   "execution_count": 26,
   "metadata": {},
   "outputs": [
    {
     "name": "stdout",
     "output_type": "stream",
     "text": [
      "[2, 4, 5, 10, 11, 14, 15, 16, 19, 20, 21, 23, 27, 28, 30, 33, 36, 37, 39, 41, 45, 46, 47, 48, 52, 54, 56, 59, 62, 63, 64, 65, 66, 69, 70, 72, 73, 74, 75, 78, 80, 81, 82, 84, 85, 90, 93, 96, 97, 99]\n"
     ]
    }
   ],
   "source": [
    "import random\n",
    "\n",
    "def selection_sort(data):\n",
    "    for index1 in range(len(data)-1):\n",
    "        lowest = index1\n",
    "        for index2 in range (index1 + 1, len(data)):\n",
    "            if data[lowest] > data[index2]:\n",
    "                lowest = index2\n",
    "        data[lowest], data[index1] = data[index1], data[lowest]\n",
    "    \n",
    "    return data\n",
    "    \n",
    "    \n",
    "data_list = list(random.sample(range(100),50)) # random.sample(list, n) -> 100개중 50개 랜덤하게\n",
    "selection = selection_sort(data_list)\n",
    "print(selection)"
   ]
  },
  {
   "cell_type": "markdown",
   "metadata": {},
   "source": [
    "### 4. 알고리즘 분석\n",
    "* 반복문이 두 개 O($n^2$)\n",
    "  - 실제로 상세하게 계산하면, <font size=5em>$\\frac { n * (n - 1)}{ 2 }$</font>"
   ]
  },
  {
   "cell_type": "code",
   "execution_count": null,
   "metadata": {},
   "outputs": [],
   "source": []
  }
 ],
 "metadata": {
  "kernelspec": {
   "display_name": "Python 3",
   "language": "python",
   "name": "python3"
  },
  "language_info": {
   "codemirror_mode": {
    "name": "ipython",
    "version": 3
   },
   "file_extension": ".py",
   "mimetype": "text/x-python",
   "name": "python",
   "nbconvert_exporter": "python",
   "pygments_lexer": "ipython3",
   "version": "3.7.6"
  }
 },
 "nbformat": 4,
 "nbformat_minor": 4
}
