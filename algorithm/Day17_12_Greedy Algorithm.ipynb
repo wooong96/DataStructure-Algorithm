{
 "cells": [
  {
   "cell_type": "markdown",
   "metadata": {},
   "source": [
    "## 탐욕 알고리즘의 이해\n",
    "\n",
    "### 1. 탐욕 알고리즘 이란?\n",
    "- Greedy algorithm 또는 탐욕 알고리즘 이라고 불리움\n",
    "- 최적의 해에 가까운 값을 구하기 위해 사용됨\n",
    "- 여러 경우 중 하나를 결정해야할 때마다, **매순간 최적이라고 생각되는 경우를 선택**하는 방식으로 진행해서, 최종적인 값을 구하는 방식\n",
    "- 그 선택들을 계속 수집하여 최종적(전역적)인 해답을 만들었다고 해서, 그것이 최적이라는 보장은 없다."
   ]
  },
  {
   "cell_type": "markdown",
   "metadata": {},
   "source": [
    "### 2. 탐욕 알고리즘 예\n",
    "### 문제1: 동전 문제\n",
    "  - 지불해야 하는 값이 4720원 일 때 1원 50원 100원, 500원 동전으로 동전의 수가 가장 적게 지불하시오."
   ]
  },
  {
   "cell_type": "code",
   "execution_count": 38,
   "metadata": {},
   "outputs": [
    {
     "data": {
      "text/plain": [
       "([[500, 9], [100, 2], [50, 0], [1, 20]], 31)"
      ]
     },
     "execution_count": 38,
     "metadata": {},
     "output_type": "execute_result"
    }
   ],
   "source": [
    "coin_list = [1,50,100,500]\n",
    "\n",
    "def min_coin_count(value, coin_list):\n",
    "    total_count = 0\n",
    "    detail = []\n",
    "    coin_list.sort(reverse=True)\n",
    "    \n",
    "    for coin in coin_list:\n",
    "        coin_num = value // coin\n",
    "        total_count += coin_num\n",
    "        value = value - coin * coin_num\n",
    "        detail.append([coin,coin_num])\n",
    "    \n",
    "    return detail,total_count\n",
    "\n",
    "min_coin_count(4720,coin_list)\n",
    "    \n"
   ]
  },
  {
   "cell_type": "markdown",
   "metadata": {},
   "source": [
    "### 문제2: 부분 배낭 문제 (Fractional Knapsack Problem)\n",
    "  - 무게 제한이 k인 배낭에 최대 가치를 가지도록 물건을 넣는 문제\n",
    "    - 각 물건은 무게(w)와 가치(v)로 표현될 수 있음\n",
    "    - 물건은 쪼갤 수 있으므로 물건의 일부분이 배낭에 넣어질 수 있음\n",
    "\n",
    "    <img src=\"https://www.fun-coding.org/00_Images/knapsack.png\">"
   ]
  },
  {
   "cell_type": "code",
   "execution_count": 39,
   "metadata": {},
   "outputs": [],
   "source": [
    "data_list = [(10,10), (15,12), (20,10), (25,8), (30,5)] # (무게,가치) 리스트"
   ]
  },
  {
   "cell_type": "code",
   "execution_count": 40,
   "metadata": {},
   "outputs": [],
   "source": [
    "# sorted() 내장함수 참고\n",
    "\n",
    "a = [(1, 2), (0, 1), (5, 1), (5, 2), (3, 0)]\n",
    "\n",
    "# 인자없이 그냥 sorted()만 쓰면, 리스트 아이템의 각 요소 순서대로 정렬을 한다.\n",
    "b = sorted(a)\n",
    "# b = [(0, 1), (1, 2), (3, 0), (5, 1), (5, 2)]\n",
    "\n",
    "# key 인자에 함수를 넘겨주면 해당 함수의 반환값을 비교하여 순서대로 정렬한다.\n",
    "c = sorted(a, key = lambda x : x[0])\n",
    "# c = [(0, 1), (1, 2), (3, 0), (5, 1), (5, 2)]\n",
    "d = sorted(a, key = lambda x : x[1])\n",
    "# d = [(3, 0), (0, 1), (5, 1), (1, 2), (5, 2)]\n",
    "\n",
    "# 아이템 첫 번째 인자를 기준으로 오름차순으로 먼저 정렬하고,\n",
    "# 그리고 그 안에서 다음 두 번째 인자를 기준으로 내림차순으로 정렬하게 하려면, 다음과 같이 할 수 있다.\n",
    "e = [(1, 3), (0, 3), (1, 4), (1, 5), (0, 1), (2, 4)]\n",
    "f = sorted(e, key = lambda x : (x[0], -x[1]))\n",
    "# f = [(0, 3), (0, 1), (1, 5), (1, 4), (1, 3), (2, 4)]"
   ]
  },
  {
   "cell_type": "code",
   "execution_count": 41,
   "metadata": {},
   "outputs": [
    {
     "data": {
      "text/plain": [
       "([[10, 10, '100%'], [15, 12, '100%'], [20, 10, '100%'], [25, 8, '0.12%']],\n",
       " '32.96value')"
      ]
     },
     "execution_count": 41,
     "metadata": {},
     "output_type": "execute_result"
    }
   ],
   "source": [
    "def max_value(data_list,capacity):\n",
    "    data_list = sorted(data_list, key = lambda x: (x[1] / x[0]), reverse = True)\n",
    "    # 무게 대비 가치 순서대로 내림차순으로 정렬\n",
    "    total_value = 0\n",
    "    answer = []\n",
    "    \n",
    "    for data in data_list:\n",
    "        \n",
    "        if capacity - data[0] >=0:\n",
    "            total_value += data[1]\n",
    "            capacity -= data[0]\n",
    "            answer.append([data[0],data[1],'100%'])\n",
    "            \n",
    "        else:\n",
    "            divide_w = capacity / data[0]\n",
    "            total_value = total_value + data[1] * divide_w \n",
    "            answer.append([data[0],data[1], str(divide_w) + '%'])\n",
    "            break\n",
    "            \n",
    "    return answer , str(total_value) + 'value'\n",
    "\n",
    "max_value(data_list,48)"
   ]
  },
  {
   "cell_type": "markdown",
   "metadata": {},
   "source": [
    "### 3. 탐욕 알고리즘의 한계\n",
    "- 탐욕 알고리즘은 근사치 추정에 활용\n",
    "- 반드시 최적의 해를 구할 수 있는 것은 아니기 때문\n",
    "- 최적의 해에 가까운 값을 구하는 방법 중의 하나임\n",
    "\n",
    "### 예\n",
    "<img src=\"https://www.fun-coding.org/00_Images/greedy.png\" width=300>\n",
    "\n",
    "- '시작' 노드에서 시작해서 가장 작은 값을 찾아 leaf node 까지 가는 경로를 찾을 시에\n",
    "  - Greedy 알고리즘 적용시 시작 -> 7 -> 12 를 선택하게 되므로 7 + 12 = 19 가 됨 \n",
    "  - 하지만 실제 가장 작은 값은 시작 -> 10 -> 5 이며, 10 + 5 = 15 가 답"
   ]
  }
 ],
 "metadata": {
  "kernelspec": {
   "display_name": "Python 3",
   "language": "python",
   "name": "python3"
  },
  "language_info": {
   "codemirror_mode": {
    "name": "ipython",
    "version": 3
   },
   "file_extension": ".py",
   "mimetype": "text/x-python",
   "name": "python",
   "nbconvert_exporter": "python",
   "pygments_lexer": "ipython3",
   "version": "3.7.6"
  }
 },
 "nbformat": 4,
 "nbformat_minor": 4
}
