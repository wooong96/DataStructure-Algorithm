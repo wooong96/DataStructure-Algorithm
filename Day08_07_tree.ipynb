{
 "cells": [
  {
   "cell_type": "markdown",
   "metadata": {},
   "source": [
    "## 대표적인 데이터 구조7: 트리\n",
    "### 1. 트리 (Tree) 구조\n",
    "- 트리: Node와 Branch를 이용해서, 사이클을 이루지 않도록 구성한 데이터 구조\n",
    "- 실제로 어디에 많이 사용되나? \n",
    "  - 트리 중 **이진 트리 (Binary Tree)** 형태의 구조로, 탐색(검색) 알고리즘 구현을 위해 많이 사용됨"
   ]
  },
  {
   "cell_type": "markdown",
   "metadata": {},
   "source": [
    "### 2. 알아둘 용어\n",
    "- Node: 트리에서 데이터를 저장하는 기본 요소 (데이터와 다른 연결된 노드에 대한 Branch 정보 포함)\n",
    "- Root Node: 트리 맨 위에 있는 노드\n",
    "- Level: 최상위 노드를 Level 0으로 하였을 때, 하위 Branch로 연결된 노드의 깊이를 나타냄\n",
    "- Parent Node: 어떤 노드의 다음 레벨에 연결된 노드\n",
    "- Child Node: 어떤 노드의 상위 레벨에 연결된 노드\n",
    "- Leaf Node (Terminal Node): Child Node가 하나도 없는 노드\n",
    "- Sibling (Brother Node): 동일한 Parent Node를 가진 노드\n",
    "- Depth: 트리에서 Node가 가질 수 있는 최대 Level\n",
    "<img src=\"http://www.fun-coding.org/00_Images/tree.png\" width=\"600\" />\n"
   ]
  },
  {
   "cell_type": "markdown",
   "metadata": {},
   "source": [
    "### 3. 이진 트리와 이진 탐색 트리 (Binary Search Tree)\n",
    "- 이진 트리: 노드의 최대 Branch가 2인 트리\n",
    "- 이진 탐색 트리 (Binary Search Tree, BST): 이진 트리에 다음과 같은 추가적인 조건이 있는 트리\n",
    "  - 왼쪽 노드는 해당 노드보다 작은 값, 오른쪽 노드는 해당 노드보다 큰 값을 가지고 있음!\n",
    "  \n",
    "<img src=\"https://www.mathwarehouse.com/programming/images/binary-search-tree/binary-search-tree-insertion-animation.gif\" />\n",
    "\n",
    "(출처: https://www.mathwarehouse.com/programming/gifs/binary-search-tree.php#binary-search-tree-insertion-node)  "
   ]
  },
  {
   "cell_type": "markdown",
   "metadata": {},
   "source": [
    "### 4. 자료 구조 이진 탐색 트리의 장점과 주요 용도\n",
    "- 주요 용도: 데이터 검색(탐색) \n",
    "- 장점: 탐색 속도를 개선할 수 있음\n",
    "\n",
    "\n",
    "### 이진트리와 정렬된 배열간의 탐색 비교\n",
    "<img src=\"https://www.mathwarehouse.com/programming/images/binary-search-tree/binary-search-tree-sorted-array-animation.gif\" />\n",
    "\n",
    "(출처: https://www.mathwarehouse.com/programming/gifs/binary-search-tree.php#binary-search-tree-insertion-node)"
   ]
  },
  {
   "cell_type": "markdown",
   "metadata": {},
   "source": [
    "### 5. 파이썬 객체지향 프로그래밍으로 링크드 리스트 구현하기\n",
    "#### 5.1. 노드 클래스 만들기"
   ]
  },
  {
   "cell_type": "code",
   "execution_count": 2,
   "metadata": {},
   "outputs": [],
   "source": [
    "class Node:\n",
    "    def __init__(self,value):\n",
    "        self.value = value\n",
    "        self.left = None\n",
    "        self.right = None\n",
    "    "
   ]
  },
  {
   "cell_type": "markdown",
   "metadata": {},
   "source": [
    "#### 5.2. 이진 탐색 트리에 데이터 넣기\n",
    "* 이진 탐색 트리 조건에 부합하게 데이터를 넣어야 함"
   ]
  },
  {
   "cell_type": "code",
   "execution_count": 3,
   "metadata": {},
   "outputs": [],
   "source": [
    "class NodeMgmt:\n",
    "    def __init__(self,head):\n",
    "        self.head = head\n",
    "        \n",
    "    def insert(self,value):\n",
    "        self.current_node = self.head\n",
    "        while True:\n",
    "            if value < self.current_node.value:\n",
    "                if self.current_node.left != None:\n",
    "                    self.current_node = self.current_node.left\n",
    "                else:\n",
    "                    self.current_node = Node(value)\n",
    "                    break\n",
    "                    \n",
    "            else:\n",
    "                if self.current_node.right != None:\n",
    "                    self.current_node = self.current_node.right\n",
    "                else:\n",
    "                    self.current_node = Node(value)\n",
    "                    break\n",
    "                    \n",
    "                    "
   ]
  },
  {
   "cell_type": "code",
   "execution_count": 4,
   "metadata": {},
   "outputs": [],
   "source": [
    "head = Node(1) # root 노드 생성\n",
    "BST = NodeMgmt(head)\n",
    "BST.insert(2) "
   ]
  },
  {
   "cell_type": "code",
   "execution_count": null,
   "metadata": {},
   "outputs": [],
   "source": []
  }
 ],
 "metadata": {
  "kernelspec": {
   "display_name": "Python 3",
   "language": "python",
   "name": "python3"
  },
  "language_info": {
   "codemirror_mode": {
    "name": "ipython",
    "version": 3
   },
   "file_extension": ".py",
   "mimetype": "text/x-python",
   "name": "python",
   "nbconvert_exporter": "python",
   "pygments_lexer": "ipython3",
   "version": "3.7.6"
  }
 },
 "nbformat": 4,
 "nbformat_minor": 4
}
