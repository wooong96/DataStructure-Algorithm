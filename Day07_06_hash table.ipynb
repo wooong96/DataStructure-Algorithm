{
 "cells": [
  {
   "cell_type": "markdown",
   "metadata": {},
   "source": [
    "### 6. 충돌(Collision) 해결 알고리즘 (좋은 해쉬 함수 사용하기)\n",
    "> 해쉬 테이블의 가장 큰 문제는 충돌(Collision)의 경우\n",
    "> 이 문제를 충돌(Collision) 또는 해쉬 충돌(Hash Collision)이라고 부름"
   ]
  },
  {
   "cell_type": "markdown",
   "metadata": {},
   "source": [
    "#### 6.1. Chaining 기법\n",
    "- **개방 해슁 또는 Open Hashing 기법** 중 하나: 해쉬 테이블 저장공간 외의 공간을 활용하는 기법\n",
    "- 충돌이 일어나면, 링크드 리스트라는 자료 구조를 사용해서, 링크드 리스트로 데이터를 추가로 뒤에 연결시켜서 저장하는 기법"
   ]
  },
  {
   "cell_type": "markdown",
   "metadata": {},
   "source": [
    "<div class=\"alert alert-block alert-warning\">\n",
    "<strong><font color=\"blue\" size=\"3em\">연습2: 연습1의 해쉬 테이블 코드에 Chaining 기법으로 충돌해결 코드를 추가해보기</font></strong><br>\n",
    "1. 해쉬 함수: key % 8<br>\n",
    "2. 해쉬 키 생성: hash(data)\n",
    "</div>"
   ]
  },
  {
   "cell_type": "code",
   "execution_count": 1,
   "metadata": {},
   "outputs": [],
   "source": [
    "hash_table = list([0 for i in range(8)])\n",
    "\n",
    "def get_key(data):\n",
    "    return hash(data)\n",
    "\n",
    "def hash_func(key):\n",
    "    return key % 8\n",
    "\n",
    "def save_data(data,value):\n",
    "    index_key = get_key(data)\n",
    "    hash_address = hash_func(index_key)\n",
    "    if hash_table[hash_address] != 0:\n",
    "        # 해당 hash value index를 이미 사용하고 있는 경우(충돌 시)\n",
    "        for index in range(len(hash_table[hash_address])):\n",
    "            if hash_table[hash_address][index][0] == index_key:\n",
    "                hash_table[hash_address][index][1] = value\n",
    "                return\n",
    "  # 같은 키 값이 존재하지 않는 경우에는 [key, value]를 해당 인덱스에 삽입\n",
    "        hash_table[hash_address].append([index_key, value])\n",
    "    else:\n",
    "        hash_table[hash_address] = [[index_key, value]]\n",
    "    \n",
    "def read_data(data):\n",
    "    index_key = get_key(data)\n",
    "    hash_address = hash_func(index,key)\n",
    "    if hash_table[hash_address] != 0:\n",
    "        for index in range(len(hash_table[hash_address])):\n",
    "            if hash_table[hash_address][index][0] == index_key:\n",
    "                return hash_table[hash_address][index][1]\n",
    "        return None     \n",
    "    else:\n",
    "        return None"
   ]
  },
  {
   "cell_type": "markdown",
   "metadata": {},
   "source": [
    "#### 6.2. Linear Probing 기법\n",
    "- **폐쇄 해슁 또는 Close Hashing 기법** 중 하나: 해쉬 테이블 저장공간 안에서 충돌 문제를 해결하는 기법\n",
    "- 충돌이 일어나면, 해당 hash address의 다음 address부터 맨 처음 나오는 빈공간에 저장하는 기법\n",
    "  - **저장공간 활용도를 높이기 위한 기법**"
   ]
  },
  {
   "cell_type": "markdown",
   "metadata": {},
   "source": [
    "<div class=\"alert alert-block alert-warning\">\n",
    "<strong><font color=\"blue\" size=\"3em\">연습3: 연습1의 해쉬 테이블 코드에 Linear Probling 기법으로 충돌해결 코드를 추가해보기</font></strong><br>\n",
    "1. 해쉬 함수: key % 8<br>\n",
    "2. 해쉬 키 생성: hash(data)\n",
    "</div>"
   ]
  },
  {
   "cell_type": "code",
   "execution_count": null,
   "metadata": {},
   "outputs": [],
   "source": [
    "hash_table = list([0 for in range(8)])\n",
    "\n",
    "def get_key(data):\n",
    "    return hash(data)\n",
    "\n",
    "def hash_func(key):\n",
    "    return key % 8\n",
    "\n",
    "def save_data(data, value):\n",
    "    index_key = get_key(data)\n",
    "    hash_address = hash_func(index_key)\n",
    "    if hash_table[hash_address] != 0:\n",
    "        for index in range(hash_address, len(hash_table)):\n",
    "            if hash_table[index] == 0:\n",
    "                hash_table[index] = [index_key, value]\n",
    "                return\n",
    "            elif hash_table[index][0] == index_key:\n",
    "                hash_table[index][1] = value\n",
    "                return\n",
    "    else:\n",
    "        hash_table[hash_address] = [index_key, value]\n",
    "        \n",
    "        \n",
    "def read_data(data):\n",
    "    index_key = get_key(data)\n",
    "    hash_address = hash_func(index_key)\n",
    "    \n",
    "    if hash_table[hash_address] != 0:\n",
    "        for index in range(hash_address, len(hash_table)):\n",
    "            if hash_table[index] == 0:\n",
    "                return None\n",
    "            elif hash_table[index][0] == index_key:\n",
    "                return hash_table[index][1]\n",
    "    else:\n",
    "        return None\n",
    "    \n",
    "                \n",
    "    "
   ]
  }
 ],
 "metadata": {
  "kernelspec": {
   "display_name": "Python 3",
   "language": "python",
   "name": "python3"
  },
  "language_info": {
   "codemirror_mode": {
    "name": "ipython",
    "version": 3
   },
   "file_extension": ".py",
   "mimetype": "text/x-python",
   "name": "python",
   "nbconvert_exporter": "python",
   "pygments_lexer": "ipython3",
   "version": "3.7.6"
  }
 },
 "nbformat": 4,
 "nbformat_minor": 4
}
